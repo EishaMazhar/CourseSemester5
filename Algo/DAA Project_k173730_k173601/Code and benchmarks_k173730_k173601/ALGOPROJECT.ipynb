{
 "cells": [
  {
   "cell_type": "code",
   "execution_count": null,
   "metadata": {},
   "outputs": [],
   "source": [
    "from tkinter import *\n",
    "import tkinter as tk\n",
    "\n",
    "root=Tk()\n",
    "root.geometry(\"300x300\")\n",
    "\n",
    "v=tk.IntVar()\n",
    "\n",
    "\n",
    "\n",
    "frame=Frame(root)\n",
    "labelText=StringVar()\n",
    "label=Label(frame,textvariable=labelText)\n",
    "labelText.set(\"Select Input File\")\n",
    "label.pack()\n",
    "frame.pack()\n",
    "\n",
    "\n",
    "\n",
    "radioButton1=Radiobutton(root,variable=v,value=1,text=\"Input file of 10 nodes\").pack()\n",
    "radioButton2=Radiobutton(root,variable=v,value=2,text=\"Input file of 20 nodes\").pack()\n",
    "radioButton3=Radiobutton(root,variable=v,value=3,text=\"Input file of 30 nodes\").pack()\n",
    "radioButton4=Radiobutton(root,variable=v,value=4,text=\"Input file of 40 nodes\").pack()\n",
    "radioButton5=Radiobutton(root,variable=v,value=5,text=\"Input file of 50 nodes\").pack()\n",
    "radioButton6=Radiobutton(root,variable=v,value=6,text=\"Input file of 60 nodes\").pack()\n",
    "radioButton7=Radiobutton(root,variable=v,value=7,text=\"Input file of 70 nodes\").pack()\n",
    "radioButton8=Radiobutton(root,variable=v,value=8,text=\"Input file of 80 nodes\").pack()\n",
    "radioButton9=Radiobutton(root,variable=v,value=9,text=\"Input file of 90 nodes\").pack()\n",
    "radioButton10=Radiobutton(root,variable=v,value=10,text=\"Input file of 100 nodes\").pack()\n",
    "\n",
    "Submitbutton=Button(root,text=\"OK\",command=root.destroy).pack()\n",
    "\n",
    "root.mainloop()"
   ]
  },
  {
   "cell_type": "code",
   "execution_count": 37,
   "metadata": {},
   "outputs": [],
   "source": [
    "if v.get()==1:\n",
    "    open_file = \"input10.txt\"\n",
    "if v.get()==2:\n",
    "    open_file = \"input20.txt\"\n",
    "if v.get()==3:\n",
    "    open_file = \"input30.txt\"\n",
    "if v.get()==4:\n",
    "    open_file = \"input40.txt\"\n",
    "if v.get()==5:\n",
    "    open_file = \"input50.txt\"\n",
    "if v.get()==6:\n",
    "    open_file = \"input60.txt\"\n",
    "if v.get()==7:\n",
    "    open_file = \"input70.txt\"\n",
    "if v.get()==8:\n",
    "    open_file = \"input80.txt\"\n",
    "if v.get()==9:\n",
    "    open_file = \"input90.txt\"\n",
    "if v.get()==10:\n",
    "    open_file = \"input100.txt\""
   ]
  },
  {
   "cell_type": "code",
   "execution_count": 38,
   "metadata": {},
   "outputs": [],
   "source": [
    "import numpy as num_py #to make 2D array (we are using matrix method for graph)\n",
    "import os\n",
    "from graphviz import Graph\n",
    "os.environ[\"PATH\"] += os.pathsep + 'C:\\Program Files (x86)\\graphviz-2.38\\release\\bin/'"
   ]
  },
  {
   "cell_type": "code",
   "execution_count": 39,
   "metadata": {},
   "outputs": [],
   "source": [
    "file = open(open_file)"
   ]
  },
  {
   "cell_type": "code",
   "execution_count": 40,
   "metadata": {},
   "outputs": [
    {
     "name": "stdout",
     "output_type": "stream",
     "text": [
      "['NETSIM\\n', '\\n', '20\\n', '\\n', '0\\t0.810561\\t0.305042\\n', '1\\t0.780486\\t0.051521\\n', '2\\t0.347922\\t0.371764\\n', '3\\t0.494352\\t0.101771\\n', '4\\t0.888326\\t0.010226\\n', '5\\t0.788951\\t0.435416\\n', '6\\t0.981720\\t0.032633\\n', '7\\t0.217096\\t0.075070\\n', '8\\t0.925084\\t0.150063\\n', '9\\t0.766068\\t0.369475\\n', '10\\t0.224709\\t0.293097\\n', '11\\t0.334552\\t0.372145\\n', '12\\t0.111215\\t0.581273\\n', '13\\t0.746668\\t0.346948\\n', '14\\t0.451047\\t0.222629\\n', '15\\t0.396872\\t0.331909\\n', '16\\t0.898209\\t0.124562\\n', '17\\t0.119465\\t0.192452\\n', '18\\t0.629983\\t0.497272\\n', '19\\t0.376451\\t0.095351\\n', '\\n', '8\\t13\\t155200000.000000\\t37500000.000000\\t28130301.528001\\t1\\t155200000.000000\\t97500000.000000\\t57922805.206736\\t19\\t155200000.000000\\t43500000.000000\\t22811169.173990\\t9\\t155200000.000000\\t19500000.000000\\t10493873.620066\\t7\\t155200000.000000\\t54000000.000000\\t31508545.138434\\t4\\t155200000.000000\\t39000000.000000\\t21047672.225252\\t14\\t155200000.000000\\t36000000.000000\\t25958515.310084\\t5\\t155200000.000000\\t93000000.000000\\t55867895.821590\\t\\n', '4\\t0\\t155200000.000000\\t97500000.000000\\t57922805.206736\\t9\\t155200000.000000\\t33000000.000000\\t25646651.672261\\t16\\t155200000.000000\\t93000000.000000\\t51233670.012960\\t5\\t155200000.000000\\t40500000.000000\\t24148369.994647\\t\\n', '4\\t11\\t155200000.000000\\t82500000.000000\\t57211730.841252\\t12\\t155200000.000000\\t27000000.000000\\t20540295.087749\\t10\\t155200000.000000\\t33000000.000000\\t26059194.756394\\t14\\t155200000.000000\\t84000000.000000\\t61186976.847829\\t\\n', '3\\t11\\t155200000.000000\\t93000000.000000\\t51339998.391716\\t13\\t155200000.000000\\t78000000.000000\\t46462688.252570\\t5\\t155200000.000000\\t81000000.000000\\t55536487.940668\\t\\n', '3\\t13\\t155200000.000000\\t25500000.000000\\t16569578.035729\\t6\\t155200000.000000\\t58500000.000000\\t33637546.976539\\t0\\t155200000.000000\\t39000000.000000\\t21047672.225252\\t\\n', '6\\t15\\t155200000.000000\\t19500000.000000\\t10538582.400959\\t18\\t155200000.000000\\t33000000.000000\\t18840555.207015\\t13\\t155200000.000000\\t22500000.000000\\t15419135.106030\\t3\\t155200000.000000\\t81000000.000000\\t55536487.940668\\t1\\t155200000.000000\\t40500000.000000\\t24148369.994647\\t0\\t155200000.000000\\t93000000.000000\\t55867895.821590\\t\\n', '2\\t8\\t155200000.000000\\t66000000.000000\\t48481622.787534\\t4\\t155200000.000000\\t58500000.000000\\t33637546.976539\\t\\n', '4\\t12\\t155200000.000000\\t81000000.000000\\t56925136.561078\\t19\\t155200000.000000\\t91500000.000000\\t70084214.126738\\t17\\t155200000.000000\\t96000000.000000\\t62738374.097862\\t0\\t155200000.000000\\t54000000.000000\\t31508545.138434\\t\\n', '2\\t14\\t155200000.000000\\t85500000.000000\\t67583930.309373\\t6\\t155200000.000000\\t66000000.000000\\t48481622.787534\\t\\n', '4\\t14\\t155200000.000000\\t55500000.000000\\t29846230.300207\\t13\\t155200000.000000\\t30000000.000000\\t20644100.725222\\t1\\t155200000.000000\\t33000000.000000\\t25646651.672261\\t0\\t155200000.000000\\t19500000.000000\\t10493873.620066\\t\\n', '4\\t19\\t155200000.000000\\t48000000.000000\\t27969874.753977\\t15\\t155200000.000000\\t72000000.000000\\t38782426.067863\\t11\\t155200000.000000\\t24000000.000000\\t16522510.209712\\t2\\t155200000.000000\\t33000000.000000\\t26059194.756394\\t\\n', '5\\t13\\t155200000.000000\\t15000000.000000\\t10694817.929471\\t3\\t155200000.000000\\t93000000.000000\\t51339998.391716\\t15\\t155200000.000000\\t19500000.000000\\t13154355.449096\\t2\\t155200000.000000\\t82500000.000000\\t57211730.841252\\t10\\t155200000.000000\\t24000000.000000\\t16522510.209712\\t\\n', '2\\t7\\t155200000.000000\\t81000000.000000\\t56925136.561078\\t2\\t155200000.000000\\t27000000.000000\\t20540295.087749\\t\\n', '7\\t11\\t155200000.000000\\t15000000.000000\\t10694817.929471\\t4\\t155200000.000000\\t25500000.000000\\t16569578.035729\\t0\\t155200000.000000\\t37500000.000000\\t28130301.528001\\t9\\t155200000.000000\\t30000000.000000\\t20644100.725222\\t16\\t155200000.000000\\t82500000.000000\\t56107491.392117\\t3\\t155200000.000000\\t78000000.000000\\t46462688.252570\\t5\\t155200000.000000\\t22500000.000000\\t15419135.106030\\t\\n', '6\\t16\\t155200000.000000\\t46500000.000000\\t34012245.303549\\t9\\t155200000.000000\\t55500000.000000\\t29846230.300207\\t19\\t155200000.000000\\t39000000.000000\\t28994494.015977\\t8\\t155200000.000000\\t85500000.000000\\t67583930.309373\\t2\\t155200000.000000\\t84000000.000000\\t61186976.847829\\t0\\t155200000.000000\\t36000000.000000\\t25958515.310084\\t\\n', '4\\t5\\t155200000.000000\\t19500000.000000\\t10538582.400959\\t17\\t155200000.000000\\t49500000.000000\\t31790756.739716\\t11\\t155200000.000000\\t19500000.000000\\t13154355.449096\\t10\\t155200000.000000\\t72000000.000000\\t38782426.067863\\t\\n', '4\\t14\\t155200000.000000\\t46500000.000000\\t34012245.303549\\t18\\t155200000.000000\\t37500000.000000\\t20291153.484204\\t13\\t155200000.000000\\t82500000.000000\\t56107491.392117\\t1\\t155200000.000000\\t93000000.000000\\t51233670.012960\\t\\n', '2\\t15\\t155200000.000000\\t49500000.000000\\t31790756.739716\\t7\\t155200000.000000\\t96000000.000000\\t62738374.097862\\t\\n', '2\\t16\\t155200000.000000\\t37500000.000000\\t20291153.484204\\t5\\t155200000.000000\\t33000000.000000\\t18840555.207015\\t\\n', '4\\t14\\t155200000.000000\\t39000000.000000\\t28994494.015977\\t10\\t155200000.000000\\t48000000.000000\\t27969874.753977\\t0\\t155200000.000000\\t43500000.000000\\t22811169.173990\\t7\\t155200000.000000\\t91500000.000000\\t70084214.126738\\t\\n', '\\n', '1']\n"
     ]
    }
   ],
   "source": [
    "new_line = file.readlines()\n",
    "print(new_line)\n",
    "start_node=new_line[-1:] #last index of file(source node)"
   ]
  },
  {
   "cell_type": "code",
   "execution_count": 41,
   "metadata": {},
   "outputs": [
    {
     "name": "stdout",
     "output_type": "stream",
     "text": [
      "['NETSIM', '', '20', '', '0\\t0.810561\\t0.305042', '1\\t0.780486\\t0.051521', '2\\t0.347922\\t0.371764', '3\\t0.494352\\t0.101771', '4\\t0.888326\\t0.010226', '5\\t0.788951\\t0.435416', '6\\t0.981720\\t0.032633', '7\\t0.217096\\t0.075070', '8\\t0.925084\\t0.150063', '9\\t0.766068\\t0.369475', '10\\t0.224709\\t0.293097', '11\\t0.334552\\t0.372145', '12\\t0.111215\\t0.581273', '13\\t0.746668\\t0.346948', '14\\t0.451047\\t0.222629', '15\\t0.396872\\t0.331909', '16\\t0.898209\\t0.124562', '17\\t0.119465\\t0.192452', '18\\t0.629983\\t0.497272', '19\\t0.376451\\t0.095351', '', '8\\t13\\t155200000.000000\\t37500000.000000\\t28130301.528001\\t1\\t155200000.000000\\t97500000.000000\\t57922805.206736\\t19\\t155200000.000000\\t43500000.000000\\t22811169.173990\\t9\\t155200000.000000\\t19500000.000000\\t10493873.620066\\t7\\t155200000.000000\\t54000000.000000\\t31508545.138434\\t4\\t155200000.000000\\t39000000.000000\\t21047672.225252\\t14\\t155200000.000000\\t36000000.000000\\t25958515.310084\\t5\\t155200000.000000\\t93000000.000000\\t55867895.821590', '4\\t0\\t155200000.000000\\t97500000.000000\\t57922805.206736\\t9\\t155200000.000000\\t33000000.000000\\t25646651.672261\\t16\\t155200000.000000\\t93000000.000000\\t51233670.012960\\t5\\t155200000.000000\\t40500000.000000\\t24148369.994647', '4\\t11\\t155200000.000000\\t82500000.000000\\t57211730.841252\\t12\\t155200000.000000\\t27000000.000000\\t20540295.087749\\t10\\t155200000.000000\\t33000000.000000\\t26059194.756394\\t14\\t155200000.000000\\t84000000.000000\\t61186976.847829', '3\\t11\\t155200000.000000\\t93000000.000000\\t51339998.391716\\t13\\t155200000.000000\\t78000000.000000\\t46462688.252570\\t5\\t155200000.000000\\t81000000.000000\\t55536487.940668', '3\\t13\\t155200000.000000\\t25500000.000000\\t16569578.035729\\t6\\t155200000.000000\\t58500000.000000\\t33637546.976539\\t0\\t155200000.000000\\t39000000.000000\\t21047672.225252', '6\\t15\\t155200000.000000\\t19500000.000000\\t10538582.400959\\t18\\t155200000.000000\\t33000000.000000\\t18840555.207015\\t13\\t155200000.000000\\t22500000.000000\\t15419135.106030\\t3\\t155200000.000000\\t81000000.000000\\t55536487.940668\\t1\\t155200000.000000\\t40500000.000000\\t24148369.994647\\t0\\t155200000.000000\\t93000000.000000\\t55867895.821590', '2\\t8\\t155200000.000000\\t66000000.000000\\t48481622.787534\\t4\\t155200000.000000\\t58500000.000000\\t33637546.976539', '4\\t12\\t155200000.000000\\t81000000.000000\\t56925136.561078\\t19\\t155200000.000000\\t91500000.000000\\t70084214.126738\\t17\\t155200000.000000\\t96000000.000000\\t62738374.097862\\t0\\t155200000.000000\\t54000000.000000\\t31508545.138434', '2\\t14\\t155200000.000000\\t85500000.000000\\t67583930.309373\\t6\\t155200000.000000\\t66000000.000000\\t48481622.787534', '4\\t14\\t155200000.000000\\t55500000.000000\\t29846230.300207\\t13\\t155200000.000000\\t30000000.000000\\t20644100.725222\\t1\\t155200000.000000\\t33000000.000000\\t25646651.672261\\t0\\t155200000.000000\\t19500000.000000\\t10493873.620066', '4\\t19\\t155200000.000000\\t48000000.000000\\t27969874.753977\\t15\\t155200000.000000\\t72000000.000000\\t38782426.067863\\t11\\t155200000.000000\\t24000000.000000\\t16522510.209712\\t2\\t155200000.000000\\t33000000.000000\\t26059194.756394', '5\\t13\\t155200000.000000\\t15000000.000000\\t10694817.929471\\t3\\t155200000.000000\\t93000000.000000\\t51339998.391716\\t15\\t155200000.000000\\t19500000.000000\\t13154355.449096\\t2\\t155200000.000000\\t82500000.000000\\t57211730.841252\\t10\\t155200000.000000\\t24000000.000000\\t16522510.209712', '2\\t7\\t155200000.000000\\t81000000.000000\\t56925136.561078\\t2\\t155200000.000000\\t27000000.000000\\t20540295.087749', '7\\t11\\t155200000.000000\\t15000000.000000\\t10694817.929471\\t4\\t155200000.000000\\t25500000.000000\\t16569578.035729\\t0\\t155200000.000000\\t37500000.000000\\t28130301.528001\\t9\\t155200000.000000\\t30000000.000000\\t20644100.725222\\t16\\t155200000.000000\\t82500000.000000\\t56107491.392117\\t3\\t155200000.000000\\t78000000.000000\\t46462688.252570\\t5\\t155200000.000000\\t22500000.000000\\t15419135.106030', '6\\t16\\t155200000.000000\\t46500000.000000\\t34012245.303549\\t9\\t155200000.000000\\t55500000.000000\\t29846230.300207\\t19\\t155200000.000000\\t39000000.000000\\t28994494.015977\\t8\\t155200000.000000\\t85500000.000000\\t67583930.309373\\t2\\t155200000.000000\\t84000000.000000\\t61186976.847829\\t0\\t155200000.000000\\t36000000.000000\\t25958515.310084', '4\\t5\\t155200000.000000\\t19500000.000000\\t10538582.400959\\t17\\t155200000.000000\\t49500000.000000\\t31790756.739716\\t11\\t155200000.000000\\t19500000.000000\\t13154355.449096\\t10\\t155200000.000000\\t72000000.000000\\t38782426.067863', '4\\t14\\t155200000.000000\\t46500000.000000\\t34012245.303549\\t18\\t155200000.000000\\t37500000.000000\\t20291153.484204\\t13\\t155200000.000000\\t82500000.000000\\t56107491.392117\\t1\\t155200000.000000\\t93000000.000000\\t51233670.012960', '2\\t15\\t155200000.000000\\t49500000.000000\\t31790756.739716\\t7\\t155200000.000000\\t96000000.000000\\t62738374.097862', '2\\t16\\t155200000.000000\\t37500000.000000\\t20291153.484204\\t5\\t155200000.000000\\t33000000.000000\\t18840555.207015', '4\\t14\\t155200000.000000\\t39000000.000000\\t28994494.015977\\t10\\t155200000.000000\\t48000000.000000\\t27969874.753977\\t0\\t155200000.000000\\t43500000.000000\\t22811169.173990\\t7\\t155200000.000000\\t91500000.000000\\t70084214.126738', '', '1']\n",
      "<map object at 0x00000081BBA65F28>\n"
     ]
    }
   ],
   "source": [
    "line = map(lambda s: s.strip(), new_line) #to remove \\n\n",
    "data = []\n",
    "for i in line:\n",
    "    data.append(i)\n",
    "print(data) #file without \\n\n",
    "print(line) #here line is an obj"
   ]
  },
  {
   "cell_type": "code",
   "execution_count": 67,
   "metadata": {},
   "outputs": [
    {
     "name": "stdout",
     "output_type": "stream",
     "text": [
      "[]\n"
     ]
    }
   ],
   "source": [
    "line = list(line) \n",
    "print(line) #coverting line into list"
   ]
  },
  {
   "cell_type": "code",
   "execution_count": 43,
   "metadata": {},
   "outputs": [
    {
     "name": "stdout",
     "output_type": "stream",
     "text": [
      "20\n"
     ]
    }
   ],
   "source": [
    "number_of_node = int(new_line[2])\n",
    "print(number_of_node)"
   ]
  },
  {
   "cell_type": "code",
   "execution_count": 44,
   "metadata": {},
   "outputs": [],
   "source": [
    "nodes_info = []\n",
    "for i in range(0, number_of_node):\n",
    "    l = new_line[i+4]\n",
    "    p1 = l.find('\\t')\n",
    "    p2 = l.find('\\t', p1+1, -1)\n",
    "    node_number = int(l[0:p1])\n",
    "    x_position = float(l[p1+2:p2])\n",
    "    y_position = float(l[p2+2:-1])\n",
    "    nodes_info += [[node_number, x_position, y_position]]"
   ]
  },
  {
   "cell_type": "code",
   "execution_count": 45,
   "metadata": {},
   "outputs": [],
   "source": [
    "c = num_py.full((number_of_node, number_of_node), 9999999999, dtype='float64')\n",
    "for i in range(0, number_of_node):\n",
    "    c[i][i] = 0         \n",
    "    l = new_line[5+number_of_node+i]\n",
    "    io = int(l[0: l.find('\\t')])\n",
    "    s = l.find('\\t')\n",
    "    while True:\n",
    "        p1 = l.find('\\t', s, -1)\n",
    "        p2 = l.find('\\t', p1+1, -1) \n",
    "        if l[p1+1:p2] == '':\n",
    "            break\n",
    "        it = int(l[p1+1:p2])\n",
    "        p3 = l.find('\\t', p2+1, -1)\n",
    "        p4 = l.find('\\t', p3+1, -1)\n",
    "        cost = float(l[p3+1:p4]) / 10000000\n",
    "        if c[io][it] > cost:\n",
    "            c[io][it] = cost\n",
    "        s = p4 + 1\n",
    "starting_node = int(data[number_of_node+number_of_node+6]) #"
   ]
  },
  {
   "cell_type": "code",
   "execution_count": 46,
   "metadata": {},
   "outputs": [],
   "source": [
    "for i in range(0, number_of_node):\n",
    "    for j in range(0, number_of_node):\n",
    "        if (c[i][j] >= 999999999):\n",
    "            c[i][j] = c[j][i] \n",
    "        if (c[i][j]!=c[j][i]):\n",
    "            c[i][j]=min(c[i][j],c[j][i])\n",
    "            c[j][i]=min(c[i][j],c[j][i])\n",
    "        print(c)\n"
   ]
  },
  {
   "cell_type": "code",
   "execution_count": 47,
   "metadata": {},
   "outputs": [],
   "source": [
    "dot = Graph()\n",
    "for i in range(0, number_of_node):\n",
    "    dot.node(str(nodes_info[i][0]), str(nodes_info[i][0]), style=\"filled\", fillcolor=\"blue\") #node info type casted to string\n",
    "    \n",
    "import graphviz\n",
    "for i in range(0, number_of_node):\n",
    "    for j in range (0, number_of_node):\n",
    "        if c[i][j] <= 0 or c[i][j] >= 999999999:\n",
    "            continue\n",
    "        elif j<i:\n",
    "            dot.edge(str(i), str(j), str(c[i][j]) + ' Mbps', color=\"red\")"
   ]
  },
  {
   "cell_type": "code",
   "execution_count": 48,
   "metadata": {},
   "outputs": [
    {
     "data": {
      "text/plain": [
       "'Input.png'"
      ]
     },
     "execution_count": 48,
     "metadata": {},
     "output_type": "execute_result"
    }
   ],
   "source": [
    "dot.render(filename=\"Input\", format=\"png\")"
   ]
  },
  {
   "cell_type": "code",
   "execution_count": 49,
   "metadata": {},
   "outputs": [
    {
     "name": "stdout",
     "output_type": "stream",
     "text": [
      "[(7, 11, {'weight': 1.5}), (5, 13, {'weight': 1.5}), (0, 4, {'weight': 1.95}), (4, 5, {'weight': 1.95}), (4, 11, {'weight': 1.95}), (6, 15, {'weight': 1.95}), (8, 9, {'weight': 1.95}), (5, 15, {'weight': 1.95}), (5, 10, {'weight': 2.4}), (3, 13, {'weight': 2.55}), (4, 12, {'weight': 2.7}), (7, 9, {'weight': 3.0}), (4, 1, {'weight': 3.3}), (4, 2, {'weight': 3.3}), (6, 18, {'weight': 3.3}), (8, 14, {'weight': 3.6}), (2, 16, {'weight': 3.75}), (6, 19, {'weight': 3.9}), (4, 17, {'weight': 4.95})]\n"
     ]
    }
   ],
   "source": [
    "import networkx as nx   #to convert our matrix into graph\n",
    "G=nx.Graph()\n",
    "G.add_nodes_from([0,number_of_node])\n",
    "for i in range(0, number_of_node):\n",
    "    for j in range(0, number_of_node):\n",
    "        if c[i][j]>=99999999:\n",
    "            continue\n",
    "        else:\n",
    "            G.add_edge(i,j,weight=c[i][j])\n",
    "\n",
    "from networkx.algorithms import tree\n",
    "mst = tree.minimum_spanning_edges(G, algorithm='kruskal', data=True)\n",
    "edgelist = list(mst)\n",
    "print(edgelist)"
   ]
  },
  {
   "cell_type": "code",
   "execution_count": 50,
   "metadata": {},
   "outputs": [
    {
     "name": "stdout",
     "output_type": "stream",
     "text": [
      "51.45\n"
     ]
    }
   ],
   "source": [
    "dot1 = Graph()\n",
    "for i in range(0, number_of_node):\n",
    "    dot1.node(str(nodes_info[i][0]), str(nodes_info[i][0]), style=\"filled\", fillcolor=\"yellow\")\n",
    "    \n",
    "TC1=0    \n",
    "import graphviz\n",
    "for i in range(0, len(edgelist)):\n",
    "        dot1.edge(str(edgelist[i][0]), str(edgelist[i][1]), str(c[edgelist[i][0]][edgelist[i][1]]) + ' Mbps', color=\"red\") \n",
    "        TC1=TC1+c[edgelist[i][0]][edgelist[i][1]]\n",
    "        \n",
    "saveFile=open('Output.txt','w')\n",
    "saveFile.write(\"Total cost of Kruskal is \")\n",
    "saveFile.write(str(TC1))\n",
    "saveFile.write(\" Mbps\")\n",
    "saveFile.close()\n",
    "print(TC1)"
   ]
  },
  {
   "cell_type": "code",
   "execution_count": 51,
   "metadata": {},
   "outputs": [
    {
     "data": {
      "text/plain": [
       "'KRUSKAL.png'"
      ]
     },
     "execution_count": 51,
     "metadata": {},
     "output_type": "execute_result"
    }
   ],
   "source": [
    "dot1.render(filename=\"KRUSKAL\", format=\"png\")"
   ]
  },
  {
   "cell_type": "code",
   "execution_count": 52,
   "metadata": {},
   "outputs": [],
   "source": [
    "mst1 = tree.minimum_spanning_edges(G, algorithm='prim', data=True)\n",
    "edgelist1 = list(mst1)"
   ]
  },
  {
   "cell_type": "code",
   "execution_count": 53,
   "metadata": {},
   "outputs": [
    {
     "name": "stdout",
     "output_type": "stream",
     "text": [
      "51.45\n"
     ]
    }
   ],
   "source": [
    "dot2 = Graph()\n",
    "for i in range(0, number_of_node):\n",
    "    dot2.node(str(nodes_info[i][0]), str(nodes_info[i][0]), style=\"filled\", fillcolor=\"yellow\")\n",
    "TC2=0    \n",
    "import graphviz\n",
    "for i in range(0, len(edgelist1)):\n",
    "        dot2.edge(str(edgelist1[i][0]), str(edgelist1[i][1]), str(c[edgelist1[i][0]][edgelist1[i][1]]) + ' Mbps', color=\"red\")\n",
    "        TC2=TC2+c[edgelist1[i][0]][edgelist1[i][1]]\n",
    "\n",
    "appendFile=open('Output.txt','a')\n",
    "appendFile.write(\"\\nTotal cost of Prim    is \")\n",
    "appendFile.write(str(TC2))\n",
    "appendFile.write(\" Mbps\")\n",
    "appendFile.close()\n",
    "print(TC2)"
   ]
  },
  {
   "cell_type": "code",
   "execution_count": 54,
   "metadata": {},
   "outputs": [
    {
     "data": {
      "text/plain": [
       "'PRIM.png'"
      ]
     },
     "execution_count": 54,
     "metadata": {},
     "output_type": "execute_result"
    }
   ],
   "source": [
    "dot2.render(filename=\"PRIM\", format=\"png\")"
   ]
  },
  {
   "cell_type": "code",
   "execution_count": 55,
   "metadata": {},
   "outputs": [],
   "source": [
    "import networkx as nx\n",
    "G=nx.Graph()\n",
    "G.add_nodes_from([0,number_of_node])\n",
    "for i in range(0, number_of_node):\n",
    "    for j in range(0, number_of_node):\n",
    "        if c[i][j]>=99999999:\n",
    "            continue\n",
    "        else:\n",
    "            G.add_edge(i,j,weight=c[i][j])\n",
    "\n",
    "TC3=0            \n",
    "length, path = nx.single_source_dijkstra(G,1)\n",
    "\n",
    "for i in range(0, number_of_node):\n",
    "    TC3=TC3+length[i]   "
   ]
  },
  {
   "cell_type": "code",
   "execution_count": 56,
   "metadata": {},
   "outputs": [],
   "source": [
    "dot3 = Graph()\n",
    "for i in range(0, number_of_node):\n",
    "    dot3.node(str(nodes_info[i][0]), str(nodes_info[i][0]), style=\"filled\", fillcolor=\"yellow\")    \n",
    "import graphviz\n",
    "for i in range(0, len(path)):\n",
    "    if len(path[i])==1:\n",
    "        continue\n",
    "    else:\n",
    "        dot3.edge(str(path[i][len(path[i])-2]), str(path[i][len(path[i])-1]), str(c[path[i][len(path[i])-2]][path[i][len(path[i])-1]]) + ' Mbps', color=\"red\")\n",
    "       \n",
    "        \n",
    "\n",
    "appendFile=open('Output.txt','a')\n",
    "appendFile.write(\"\\nInput node is 1 and cost by Dijikstra    is \")\n",
    "appendFile.write(str(TC3))\n",
    "appendFile.write(\" Mbps\")\n",
    "appendFile.close()"
   ]
  },
  {
   "cell_type": "code",
   "execution_count": 57,
   "metadata": {},
   "outputs": [
    {
     "data": {
      "text/plain": [
       "'DIJIKSTRA.png'"
      ]
     },
     "execution_count": 57,
     "metadata": {},
     "output_type": "execute_result"
    }
   ],
   "source": [
    "dot3.render(filename=\"DIJIKSTRA\", format=\"png\")"
   ]
  },
  {
   "cell_type": "code",
   "execution_count": 58,
   "metadata": {},
   "outputs": [],
   "source": [
    "import networkx as nx\n",
    "G=nx.Graph()\n",
    "G.add_nodes_from([0,number_of_node])\n",
    "for i in range(0, number_of_node):\n",
    "    for j in range(0, number_of_node):\n",
    "        if c[i][j]>=99999999:\n",
    "            continue\n",
    "        elif j<i:\n",
    "            G.add_edge(i,j,weight=c[i][j])\n",
    "TC4=0        \n",
    "path=nx.single_source_bellman_ford_path(G,1)\n",
    "\n",
    "for i in range(0, number_of_node):\n",
    "    for j in range(0, len(path[i])-1):\n",
    "        TC4=TC4+c[path[i][j]][path[i][j+1]]\n",
    "     "
   ]
  },
  {
   "cell_type": "code",
   "execution_count": 59,
   "metadata": {},
   "outputs": [],
   "source": [
    "dot4 = Graph()\n",
    "for i in range(0, number_of_node):\n",
    "    dot4.node(str(nodes_info[i][0]), str(nodes_info[i][0]), style=\"filled\", fillcolor=\"yellow\")\n",
    "\n",
    "\n",
    "    \n",
    "import graphviz\n",
    "for i in range(0, len(path)):\n",
    "    if len(path[i])==1:\n",
    "        continue\n",
    "    else:\n",
    "        dot4.edge(str(path[i][len(path[i])-2]), str(path[i][len(path[i])-1]), str(c[path[i][len(path[i])-2]][path[i][len(path[i])-1]]) + ' Mbps', color=\"red\")\n",
    "        \n",
    "        \n",
    "        \n",
    "\n",
    "appendFile=open('Output.txt','a')\n",
    "appendFile.write(\"\\nInput node is 1 and cost by Bellman ford is \")\n",
    "appendFile.write(str(TC4))\n",
    "appendFile.write(\" Mbps\")\n",
    "appendFile.close()"
   ]
  },
  {
   "cell_type": "code",
   "execution_count": 60,
   "metadata": {},
   "outputs": [
    {
     "data": {
      "text/plain": [
       "'BELLMAN_FORD.png'"
      ]
     },
     "execution_count": 60,
     "metadata": {},
     "output_type": "execute_result"
    }
   ],
   "source": [
    "dot4.render(filename=\"BELLMAN_FORD\", format=\"png\")"
   ]
  },
  {
   "cell_type": "code",
   "execution_count": 61,
   "metadata": {},
   "outputs": [],
   "source": [
    "import networkx as nx\n",
    "G=nx.Graph()\n",
    "G.add_nodes_from([0,number_of_node-1])\n",
    "for i in range(0, number_of_node):\n",
    "    for j in range(0, number_of_node):\n",
    "        if c[i][j]>=99999999:\n",
    "            continue\n",
    "        elif j<i:\n",
    "            G.add_edge(i,j,weight=c[i][j])\n",
    "TC5=0 \n",
    "d=nx.floyd_warshall_numpy(G)\n",
    "for i in range(0, number_of_node):\n",
    "    for j in range(0, number_of_node):\n",
    "        TC5=TC5+d[i,j]"
   ]
  },
  {
   "cell_type": "code",
   "execution_count": 62,
   "metadata": {},
   "outputs": [],
   "source": [
    "dot5 = Graph()\n",
    "for i in range(0, number_of_node):\n",
    "    dot5.node(str(nodes_info[i][0]), str(nodes_info[i][0]), style=\"filled\", fillcolor=\"yellow\")\n",
    "\n",
    "\n",
    "import graphviz\n",
    "for i in range(0, len(d)):\n",
    "    for j in range(0, len(d)):\n",
    "        if j<i:\n",
    "            dot5.edge(str(i), str(j), str(d[i,j]) + ' Mbps', color=\"red\")\n",
    "            \n",
    "appendFile=open('Output.txt','a')\n",
    "appendFile.write(\"\\nTotal cost by Floyd Warshall is \")\n",
    "appendFile.write(str(TC5))\n",
    "appendFile.write(\" Mbps\")\n",
    "appendFile.close()\n"
   ]
  },
  {
   "cell_type": "code",
   "execution_count": 63,
   "metadata": {},
   "outputs": [
    {
     "data": {
      "text/plain": [
       "'FLOYD_WARSHALL.png'"
      ]
     },
     "execution_count": 63,
     "metadata": {},
     "output_type": "execute_result"
    }
   ],
   "source": [
    "dot5.render(filename=\"FLOYD_WARSHALL\", format=\"png\")"
   ]
  },
  {
   "cell_type": "code",
   "execution_count": 64,
   "metadata": {},
   "outputs": [],
   "source": [
    "import networkx as nx\n",
    "G=nx.Graph()\n",
    "G.add_nodes_from([0,number_of_node-1])\n",
    "for i in range(0, number_of_node):\n",
    "    for j in range(0, number_of_node):\n",
    "        if c[i][j]>=99999999:\n",
    "            continue\n",
    "        else:        \n",
    "            G.add_edge(i,j,weight=c[i][j])\n",
    "\n",
    "d1=nx.clustering(G)\n",
    "d2=nx.average_clustering(G)\n",
    "appendFile=open('Output.txt','a')\n",
    "for i in range(0, number_of_node):\n",
    "    appendFile.write(\"\\nLocal Clustring Coefficient of node \")\n",
    "    appendFile.write(str(i))\n",
    "    appendFile.write(\" is \")\n",
    "    appendFile.write(str(d1[i]))\n",
    "\n",
    "appendFile.write(\"\\nThe final Clustring coeffecient is \")\n",
    "appendFile.write(str(d2))\n",
    "appendFile.close()"
   ]
  },
  {
   "cell_type": "code",
   "execution_count": 65,
   "metadata": {},
   "outputs": [],
   "source": [
    "import numpy\n",
    "import cv2\n",
    "img=cv2.imread(\"INPUT.png\")\n",
    "cv2.imshow(\"Input File Visualization\",img)\n",
    "cv2.waitKey(4000)\n",
    "cv2.destroyAllWindows()"
   ]
  },
  {
   "cell_type": "code",
   "execution_count": 66,
   "metadata": {},
   "outputs": [
    {
     "ename": "KeyboardInterrupt",
     "evalue": "",
     "output_type": "error",
     "traceback": [
      "\u001b[1;31m---------------------------------------------------------------------------\u001b[0m",
      "\u001b[1;31mKeyboardInterrupt\u001b[0m                         Traceback (most recent call last)",
      "\u001b[1;32m<ipython-input-66-d069887e5b3f>\u001b[0m in \u001b[0;36m<module>\u001b[1;34m\u001b[0m\n\u001b[0;32m      1\u001b[0m \u001b[0mimg1\u001b[0m\u001b[1;33m=\u001b[0m\u001b[0mcv2\u001b[0m\u001b[1;33m.\u001b[0m\u001b[0mimread\u001b[0m\u001b[1;33m(\u001b[0m\u001b[1;34m\"PRIM.png\"\u001b[0m\u001b[1;33m)\u001b[0m\u001b[1;33m\u001b[0m\u001b[1;33m\u001b[0m\u001b[0m\n\u001b[0;32m      2\u001b[0m \u001b[0mcv2\u001b[0m\u001b[1;33m.\u001b[0m\u001b[0mimshow\u001b[0m\u001b[1;33m(\u001b[0m\u001b[1;34m\"Prim Output Visualization\"\u001b[0m\u001b[1;33m,\u001b[0m\u001b[0mimg1\u001b[0m\u001b[1;33m)\u001b[0m\u001b[1;33m\u001b[0m\u001b[1;33m\u001b[0m\u001b[0m\n\u001b[1;32m----> 3\u001b[1;33m \u001b[0mcv2\u001b[0m\u001b[1;33m.\u001b[0m\u001b[0mwaitKey\u001b[0m\u001b[1;33m(\u001b[0m\u001b[1;36m4000\u001b[0m\u001b[1;33m)\u001b[0m\u001b[1;33m\u001b[0m\u001b[1;33m\u001b[0m\u001b[0m\n\u001b[0m\u001b[0;32m      4\u001b[0m \u001b[0mcv2\u001b[0m\u001b[1;33m.\u001b[0m\u001b[0mdestroyAllWindows\u001b[0m\u001b[1;33m(\u001b[0m\u001b[1;33m)\u001b[0m\u001b[1;33m\u001b[0m\u001b[1;33m\u001b[0m\u001b[0m\n",
      "\u001b[1;31mKeyboardInterrupt\u001b[0m: "
     ]
    }
   ],
   "source": [
    "img1=cv2.imread(\"PRIM.png\")\n",
    "cv2.imshow(\"Prim Output Visualization\",img1)\n",
    "cv2.waitKey(4000)\n",
    "cv2.destroyAllWindows()"
   ]
  },
  {
   "cell_type": "code",
   "execution_count": null,
   "metadata": {},
   "outputs": [],
   "source": [
    "img2=cv2.imread(\"KRUSKAL.png\")\n",
    "cv2.imshow(\"Kruskal Output Visualization\",img2)\n",
    "cv2.waitKey(4000)\n",
    "cv2.destroyAllWindows()"
   ]
  },
  {
   "cell_type": "code",
   "execution_count": null,
   "metadata": {},
   "outputs": [],
   "source": [
    "img3=cv2.imread(\"DIJIKSTRA.png\")\n",
    "cv2.imshow(\"Dijikstra Output Visualization\",img3)\n",
    "cv2.waitKey(4000)\n",
    "cv2.destroyAllWindows()"
   ]
  },
  {
   "cell_type": "code",
   "execution_count": null,
   "metadata": {},
   "outputs": [],
   "source": [
    "img4=cv2.imread(\"BELLMAN_FORD.png\")\n",
    "cv2.imshow(\"Bellman Ford Output Visualization\",img4)\n",
    "cv2.waitKey(4000)\n",
    "cv2.destroyAllWindows()"
   ]
  },
  {
   "cell_type": "code",
   "execution_count": null,
   "metadata": {},
   "outputs": [],
   "source": [
    "img5=cv2.imread(\"FLOYD_WARSHALL.png\")\n",
    "cv2.imshow(\"Floyd Warshall Output Visualization\",img5)\n",
    "cv2.waitKey(4000)\n",
    "cv2.destroyAllWindows()"
   ]
  },
  {
   "cell_type": "code",
   "execution_count": null,
   "metadata": {},
   "outputs": [],
   "source": []
  },
  {
   "cell_type": "code",
   "execution_count": null,
   "metadata": {},
   "outputs": [],
   "source": []
  }
 ],
 "metadata": {
  "kernelspec": {
   "display_name": "Python 3",
   "language": "python",
   "name": "python3"
  },
  "language_info": {
   "codemirror_mode": {
    "name": "ipython",
    "version": 3
   },
   "file_extension": ".py",
   "mimetype": "text/x-python",
   "name": "python",
   "nbconvert_exporter": "python",
   "pygments_lexer": "ipython3",
   "version": "3.7.3"
  }
 },
 "nbformat": 4,
 "nbformat_minor": 2
}
